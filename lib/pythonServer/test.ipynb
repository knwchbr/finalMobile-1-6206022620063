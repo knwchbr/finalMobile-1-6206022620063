{
 "cells": [
  {
   "cell_type": "code",
   "execution_count": 1,
   "id": "683e825e-279f-4585-a84d-1ec1251d02ea",
   "metadata": {},
   "outputs": [
    {
     "name": "stdout",
     "output_type": "stream",
     "text": [
      "Requirement already satisfied: Flask in c:\\users\\chompoo\\appdata\\local\\packages\\pythonsoftwarefoundation.python.3.9_qbz5n2kfra8p0\\localcache\\local-packages\\python39\\site-packages (2.1.1)\n",
      "Requirement already satisfied: click>=8.0 in c:\\users\\chompoo\\appdata\\local\\packages\\pythonsoftwarefoundation.python.3.9_qbz5n2kfra8p0\\localcache\\local-packages\\python39\\site-packages (from Flask) (8.1.2)\n",
      "Requirement already satisfied: importlib-metadata>=3.6.0 in c:\\users\\chompoo\\appdata\\local\\packages\\pythonsoftwarefoundation.python.3.9_qbz5n2kfra8p0\\localcache\\local-packages\\python39\\site-packages (from Flask) (4.11.3)\n",
      "Requirement already satisfied: itsdangerous>=2.0 in c:\\users\\chompoo\\appdata\\local\\packages\\pythonsoftwarefoundation.python.3.9_qbz5n2kfra8p0\\localcache\\local-packages\\python39\\site-packages (from Flask) (2.1.2)\n",
      "Requirement already satisfied: Jinja2>=3.0 in c:\\users\\chompoo\\appdata\\local\\packages\\pythonsoftwarefoundation.python.3.9_qbz5n2kfra8p0\\localcache\\local-packages\\python39\\site-packages (from Flask) (3.1.1)\n",
      "Requirement already satisfied: Werkzeug>=2.0 in c:\\users\\chompoo\\appdata\\local\\packages\\pythonsoftwarefoundation.python.3.9_qbz5n2kfra8p0\\localcache\\local-packages\\python39\\site-packages (from Flask) (2.1.1)\n",
      "Requirement already satisfied: colorama in c:\\users\\chompoo\\appdata\\local\\packages\\pythonsoftwarefoundation.python.3.9_qbz5n2kfra8p0\\localcache\\local-packages\\python39\\site-packages (from click>=8.0->Flask) (0.4.4)\n",
      "Requirement already satisfied: zipp>=0.5 in c:\\users\\chompoo\\appdata\\local\\packages\\pythonsoftwarefoundation.python.3.9_qbz5n2kfra8p0\\localcache\\local-packages\\python39\\site-packages (from importlib-metadata>=3.6.0->Flask) (3.8.0)\n",
      "Requirement already satisfied: MarkupSafe>=2.0 in c:\\users\\chompoo\\appdata\\local\\packages\\pythonsoftwarefoundation.python.3.9_qbz5n2kfra8p0\\localcache\\local-packages\\python39\\site-packages (from Jinja2>=3.0->Flask) (2.1.1)\n"
     ]
    }
   ],
   "source": [
    "!pip install Flask"
   ]
  },
  {
   "cell_type": "code",
   "execution_count": 2,
   "id": "0fdc206a",
   "metadata": {},
   "outputs": [
    {
     "name": "stdout",
     "output_type": "stream",
     "text": [
      "Requirement already satisfied: flask-mysql in c:\\users\\chompoo\\appdata\\local\\packages\\pythonsoftwarefoundation.python.3.9_qbz5n2kfra8p0\\localcache\\local-packages\\python39\\site-packages (1.5.2)\n",
      "Requirement already satisfied: PyMySQL in c:\\users\\chompoo\\appdata\\local\\packages\\pythonsoftwarefoundation.python.3.9_qbz5n2kfra8p0\\localcache\\local-packages\\python39\\site-packages (from flask-mysql) (1.0.2)\n",
      "Requirement already satisfied: Flask in c:\\users\\chompoo\\appdata\\local\\packages\\pythonsoftwarefoundation.python.3.9_qbz5n2kfra8p0\\localcache\\local-packages\\python39\\site-packages (from flask-mysql) (2.1.1)\n",
      "Requirement already satisfied: Jinja2>=3.0 in c:\\users\\chompoo\\appdata\\local\\packages\\pythonsoftwarefoundation.python.3.9_qbz5n2kfra8p0\\localcache\\local-packages\\python39\\site-packages (from Flask->flask-mysql) (3.1.1)\n",
      "Requirement already satisfied: Werkzeug>=2.0 in c:\\users\\chompoo\\appdata\\local\\packages\\pythonsoftwarefoundation.python.3.9_qbz5n2kfra8p0\\localcache\\local-packages\\python39\\site-packages (from Flask->flask-mysql) (2.1.1)\n",
      "Requirement already satisfied: importlib-metadata>=3.6.0 in c:\\users\\chompoo\\appdata\\local\\packages\\pythonsoftwarefoundation.python.3.9_qbz5n2kfra8p0\\localcache\\local-packages\\python39\\site-packages (from Flask->flask-mysql) (4.11.3)\n",
      "Requirement already satisfied: click>=8.0 in c:\\users\\chompoo\\appdata\\local\\packages\\pythonsoftwarefoundation.python.3.9_qbz5n2kfra8p0\\localcache\\local-packages\\python39\\site-packages (from Flask->flask-mysql) (8.1.2)\n",
      "Requirement already satisfied: itsdangerous>=2.0 in c:\\users\\chompoo\\appdata\\local\\packages\\pythonsoftwarefoundation.python.3.9_qbz5n2kfra8p0\\localcache\\local-packages\\python39\\site-packages (from Flask->flask-mysql) (2.1.2)\n",
      "Requirement already satisfied: colorama in c:\\users\\chompoo\\appdata\\local\\packages\\pythonsoftwarefoundation.python.3.9_qbz5n2kfra8p0\\localcache\\local-packages\\python39\\site-packages (from click>=8.0->Flask->flask-mysql) (0.4.4)\n",
      "Requirement already satisfied: zipp>=0.5 in c:\\users\\chompoo\\appdata\\local\\packages\\pythonsoftwarefoundation.python.3.9_qbz5n2kfra8p0\\localcache\\local-packages\\python39\\site-packages (from importlib-metadata>=3.6.0->Flask->flask-mysql) (3.8.0)\n",
      "Requirement already satisfied: MarkupSafe>=2.0 in c:\\users\\chompoo\\appdata\\local\\packages\\pythonsoftwarefoundation.python.3.9_qbz5n2kfra8p0\\localcache\\local-packages\\python39\\site-packages (from Jinja2>=3.0->Flask->flask-mysql) (2.1.1)\n"
     ]
    }
   ],
   "source": [
    "!pip install flask-mysql"
   ]
  },
  {
   "cell_type": "code",
   "execution_count": null,
   "id": "42b8241e-9d4c-42be-aa32-adf104ba5bdc",
   "metadata": {},
   "outputs": [
    {
     "name": "stderr",
     "output_type": "stream",
     "text": [
      " * Running on http://localhost:8080 (Press CTRL+C to quit)\n",
      "127.0.0.1 - - [27/Apr/2022 15:24:18] \"GET / HTTP/1.1\" 200 -\n",
      "127.0.0.1 - - [27/Apr/2022 15:24:21] \"GET /emp HTTP/1.1\" 200 -\n",
      "127.0.0.1 - - [27/Apr/2022 15:24:24] \"GET /new_user HTTP/1.1\" 200 -\n",
      "127.0.0.1 - - [27/Apr/2022 15:24:40] \"POST /create HTTP/1.1\" 200 -\n"
     ]
    },
    {
     "name": "stdout",
     "output_type": "stream",
     "text": [
      "{'name': 'Kanokwan', 'email': '6206022620063@fitm.kmutnb.ac.th', 'phone': '0946458241', 'address': '128/1'}\n"
     ]
    },
    {
     "name": "stderr",
     "output_type": "stream",
     "text": [
      "127.0.0.1 - - [27/Apr/2022 15:24:40] \"GET /new_user?inputName=Kanokwan&inputEmail=6206022620063%40fitm.kmutnb.ac.th&inputPhone=0946458241&inputaddress=128%2F1 HTTP/1.1\" 200 -\n",
      "127.0.0.1 - - [27/Apr/2022 15:24:42] \"POST /create HTTP/1.1\" 500 -\n",
      "Error on request:\n",
      "Traceback (most recent call last):\n",
      "  File \"C:\\Users\\Chompoo\\AppData\\Local\\Packages\\PythonSoftwareFoundation.Python.3.9_qbz5n2kfra8p0\\LocalCache\\local-packages\\Python39\\site-packages\\werkzeug\\serving.py\", line 319, in run_wsgi\n",
      "    execute(self.server.app)\n",
      "  File \"C:\\Users\\Chompoo\\AppData\\Local\\Packages\\PythonSoftwareFoundation.Python.3.9_qbz5n2kfra8p0\\LocalCache\\local-packages\\Python39\\site-packages\\werkzeug\\serving.py\", line 306, in execute\n",
      "    application_iter = app(environ, start_response)\n",
      "  File \"C:\\Users\\Chompoo\\AppData\\Local\\Packages\\PythonSoftwareFoundation.Python.3.9_qbz5n2kfra8p0\\LocalCache\\local-packages\\Python39\\site-packages\\flask\\app.py\", line 2095, in __call__\n",
      "    return self.wsgi_app(environ, start_response)\n",
      "  File \"C:\\Users\\Chompoo\\AppData\\Local\\Packages\\PythonSoftwareFoundation.Python.3.9_qbz5n2kfra8p0\\LocalCache\\local-packages\\Python39\\site-packages\\flask\\app.py\", line 2080, in wsgi_app\n",
      "    response = self.handle_exception(e)\n",
      "  File \"C:\\Users\\Chompoo\\AppData\\Local\\Packages\\PythonSoftwareFoundation.Python.3.9_qbz5n2kfra8p0\\LocalCache\\local-packages\\Python39\\site-packages\\flask\\app.py\", line 2077, in wsgi_app\n",
      "    response = self.full_dispatch_request()\n",
      "  File \"C:\\Users\\Chompoo\\AppData\\Local\\Packages\\PythonSoftwareFoundation.Python.3.9_qbz5n2kfra8p0\\LocalCache\\local-packages\\Python39\\site-packages\\flask\\app.py\", line 1525, in full_dispatch_request\n",
      "    rv = self.handle_user_exception(e)\n",
      "  File \"C:\\Users\\Chompoo\\AppData\\Local\\Packages\\PythonSoftwareFoundation.Python.3.9_qbz5n2kfra8p0\\LocalCache\\local-packages\\Python39\\site-packages\\flask\\app.py\", line 1523, in full_dispatch_request\n",
      "    rv = self.dispatch_request()\n",
      "  File \"C:\\Users\\Chompoo\\AppData\\Local\\Packages\\PythonSoftwareFoundation.Python.3.9_qbz5n2kfra8p0\\LocalCache\\local-packages\\Python39\\site-packages\\flask\\app.py\", line 1509, in dispatch_request\n",
      "    return self.ensure_sync(self.view_functions[rule.endpoint])(**req.view_args)\n",
      "  File \"C:\\Users\\Chompoo\\AppData\\Local\\Temp\\ipykernel_2244\\4201426994.py\", line 57, in create_emp\n",
      "    if cursor:\n",
      "UnboundLocalError: local variable 'cursor' referenced before assignment\n"
     ]
    },
    {
     "name": "stdout",
     "output_type": "stream",
     "text": [
      "{'name': '', 'email': '', 'phone': '', 'address': ''}\n",
      "name 'showMessage' is not defined\n"
     ]
    },
    {
     "name": "stderr",
     "output_type": "stream",
     "text": [
      "127.0.0.1 - - [27/Apr/2022 15:24:46] \"GET /emp HTTP/1.1\" 200 -\n",
      "127.0.0.1 - - [27/Apr/2022 15:24:57] \"GET /new_user HTTP/1.1\" 200 -\n",
      "127.0.0.1 - - [27/Apr/2022 15:25:23] \"POST /create HTTP/1.1\" 200 -\n"
     ]
    },
    {
     "name": "stdout",
     "output_type": "stream",
     "text": [
      "{'name': 'Chom', 'email': 'poo@gmail.com', 'phone': '0950394387', 'address': '128/1'}\n"
     ]
    },
    {
     "name": "stderr",
     "output_type": "stream",
     "text": [
      "127.0.0.1 - - [27/Apr/2022 15:25:23] \"GET /new_user?inputName=Chom&inputEmail=poo%40gmail.com&inputPhone=0950394387&inputaddress=128%2F1 HTTP/1.1\" 200 -\n",
      "127.0.0.1 - - [27/Apr/2022 15:25:27] \"GET /emp HTTP/1.1\" 200 -\n"
     ]
    }
   ],
   "source": [
    "import pymysql\n",
    "from werkzeug.wrappers import Request, Response\n",
    "from flask import flash, render_template, request\n",
    "from flask import jsonify\n",
    "from flask import Flask\n",
    "from flaskext.mysql import MySQL\n",
    "\n",
    "app = Flask(__name__)\n",
    "mysql = MySQL()\n",
    "app.config['MYSQL_DATABASE_USER'] = 'root'\n",
    "app.config['MYSQL_DATABASE_PASSWORD'] = ''\n",
    "app.config['MYSQL_DATABASE_DB'] = 'emp'\n",
    "app.config['MYSQL_DATABASE_HOST'] = 'localhost'\n",
    "mysql.init_app(app)\n",
    "\n",
    "@app.route(\"/\")\n",
    "def hello():\n",
    "    return \"\"\"\n",
    "    Flask API !<br>\n",
    "    <a href='/new_user'>add</a>insert new<br>\n",
    "    <a href='/emp'>emp</a>Show all<br>\n",
    "    <b>/create</b> Insert new Record<br>\n",
    "    <b>/emp/<id></b> get by ID<br>\n",
    "    <b>/update/<id></b> Edit info<br>\n",
    "    <b>/delete/<id></b> Delete by  ID<br>\n",
    "    \"\"\"\n",
    "@app.route('/new_user')\n",
    "def add_user_view():\n",
    "    return render_template('add.html')\n",
    "\n",
    "@app.route('/create', methods=['POST'])\n",
    "def create_emp():\n",
    "    try:        \n",
    "        _json = request.json\n",
    "        print(_json)\n",
    "        _name = _json['name']\n",
    "        _email = _json['email']\n",
    "        _phone = _json['phone']\n",
    "        _address = _json['address']\n",
    "        if _name and _email and _phone and _address and request.method == 'POST':\n",
    "            conn = mysql.connect()\n",
    "            cursor = conn.cursor(pymysql.cursors.DictCursor)\n",
    "            sqlQuery = \"INSERT INTO emp(name, email, phone, address) VALUES(%s, %s, %s, %s)\"\n",
    "            bindData = (_name, _email, _phone, _address)            \n",
    "            cursor.execute(sqlQuery, bindData)\n",
    "            conn.commit()\n",
    "            respone = jsonify('Employee added successfully!')\n",
    "            respone.status_code = 200\n",
    "            #flash('User added successfully!')\n",
    "            #redirect('/')\n",
    "            return respone\n",
    "        else:\n",
    "            return showMessage()\n",
    "    except Exception as e:\n",
    "        print(e)\n",
    "    finally:\n",
    "        if cursor:\n",
    "            cursor.close() \n",
    "        if conn:\n",
    "            conn.close()\n",
    "        \n",
    "@app.route('/emp')\n",
    "def emp():\n",
    "    try:\n",
    "        conn = mysql.connect()\n",
    "        cursor = conn.cursor(pymysql.cursors.DictCursor)\n",
    "        cursor.execute(\"SELECT id, name, email, phone, address FROM emp\")\n",
    "        empRows = cursor.fetchall()\n",
    "        respone = jsonify(empRows)\n",
    "        respone.status_code = 200\n",
    "        return respone\n",
    "    except Exception as e:\n",
    "        print(e)\n",
    "    finally:\n",
    "        if cursor:\n",
    "            cursor.close() \n",
    "        if conn:\n",
    "            conn.close() \n",
    "\n",
    "@app.route('/emp/<int:emp_id>')\n",
    "def emp_details(emp_id):\n",
    "    try:\n",
    "        conn = mysql.connect()\n",
    "        cursor = conn.cursor(pymysql.cursors.DictCursor)\n",
    "        cursor.execute(\"SELECT id, name, email, phone, address FROM emp WHERE id =%s\", emp_id)\n",
    "        empRow = cursor.fetchone()\n",
    "        respone = jsonify(empRow)\n",
    "        respone.status_code = 200\n",
    "        return respone\n",
    "    except Exception as e:\n",
    "        print(e)\n",
    "    finally:\n",
    "        if cursor:\n",
    "            cursor.close() \n",
    "        if conn:\n",
    "            conn.close()\n",
    "\n",
    "@app.route('/update/<int:emp_id>', methods=['PUT'])\n",
    "def update_emp(emp_id):\n",
    "    try:\n",
    "        _json = request.json\n",
    "        #_id = _json['id']\n",
    "        _name = _json['name']\n",
    "        _email = _json['email']\n",
    "        _phone = _json['phone']\n",
    "        _address = _json['address']\n",
    "        if _name and _email and _phone and _address and emp_id and request.method == 'PUT':\n",
    "            sqlQuery = \"UPDATE emp SET name=%s, email=%s, phone=%s, address=%s WHERE id=%s\"\n",
    "            bindData = (_name, _email, _phone, _address, emp_id,)\n",
    "            conn = mysql.connect()\n",
    "            cursor = conn.cursor()\n",
    "            cursor.execute(sqlQuery, bindData)\n",
    "            conn.commit()\n",
    "            respone = jsonify('Employee updated successfully!')\n",
    "            respone.status_code = 200\n",
    "            return respone\n",
    "        else:\n",
    "            return showMessage()\n",
    "    except Exception as e:\n",
    "        print(e)\n",
    "    finally:\n",
    "        if cursor:\n",
    "            cursor.close() \n",
    "        if conn:\n",
    "            conn.close()\n",
    "\n",
    "@app.route('/delete/<int:emp_id>', methods=['DELETE'])\n",
    "def delete_emp(emp_id):\n",
    "    try:\n",
    "        conn = mysql.connect()\n",
    "        cursor = conn.cursor()\n",
    "        cursor.execute(\"DELETE FROM emp WHERE id =%s\", (emp_id,))\n",
    "        conn.commit()\n",
    "        respone = jsonify('Employee deleted successfully!')\n",
    "        respone.status_code = 200\n",
    "        return respone\n",
    "    except Exception as e:\n",
    "        print(e)\n",
    "    finally:\n",
    "        if cursor:\n",
    "            cursor.close() \n",
    "        if conn:\n",
    "            conn.close()      \n",
    "\n",
    "if __name__ == '__main__':\n",
    "    from werkzeug.serving import run_simple\n",
    "    app.debug = True\n",
    "    run_simple('localhost', 8080, app)\n",
    "    "
   ]
  },
  {
   "cell_type": "code",
   "execution_count": null,
   "id": "4a15b07f-8602-4485-a4e4-404b30851af4",
   "metadata": {},
   "outputs": [],
   "source": []
  },
  {
   "cell_type": "code",
   "execution_count": null,
   "id": "6084453b-ff85-4ed6-8c23-3f60e1503680",
   "metadata": {},
   "outputs": [],
   "source": []
  },
  {
   "cell_type": "code",
   "execution_count": null,
   "id": "fd49fba6-5644-4033-aa0e-8cec23b49b80",
   "metadata": {},
   "outputs": [],
   "source": [
    "\n",
    "\n"
   ]
  },
  {
   "cell_type": "code",
   "execution_count": null,
   "id": "e67040d8-4a20-4693-88d1-ab24ee95c72c",
   "metadata": {},
   "outputs": [],
   "source": []
  }
 ],
 "metadata": {
  "kernelspec": {
   "display_name": "Python 3 (ipykernel)",
   "language": "python",
   "name": "python3"
  },
  "language_info": {
   "codemirror_mode": {
    "name": "ipython",
    "version": 3
   },
   "file_extension": ".py",
   "mimetype": "text/x-python",
   "name": "python",
   "nbconvert_exporter": "python",
   "pygments_lexer": "ipython3",
   "version": "3.9.12"
  }
 },
 "nbformat": 4,
 "nbformat_minor": 5
}
